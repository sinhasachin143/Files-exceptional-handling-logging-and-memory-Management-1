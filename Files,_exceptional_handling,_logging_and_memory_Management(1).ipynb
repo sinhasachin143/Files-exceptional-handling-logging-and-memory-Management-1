{
  "nbformat": 4,
  "nbformat_minor": 0,
  "metadata": {
    "colab": {
      "provenance": []
    },
    "kernelspec": {
      "name": "python3",
      "display_name": "Python 3"
    },
    "language_info": {
      "name": "python"
    }
  },
  "cells": [
    {
      "cell_type": "markdown",
      "source": [
        "# Files, exceptional handling, logging and memory management Assignment Question\n",
        "# Theory Questions\n",
        "\n",
        "1. What is the difference between interpreted and compiled languages?\n",
        "   - The main difference between interpreted and compiled languages  is how the code is executed:\n",
        "   - Interpreted languages:-\n",
        "   - The code is executed line by line, and is compiled on the fly each time the program is run. This makes interpreted languages more flexible for modifying and testing code on the fly. An interpreted language is a programming language whose implementations execute instructions directly and freely, without previously compiling a program into machine-language instructions. While in this language, the instructions are not directly executed by the target machine. There is only one step to get from source code to execution. While in this language, interpreted programs can be modified while the program is running. In this languages, all the debugging occurs at run-time. A program written in an interpreted language is not compiled, it is interpreted. This language example delivers relatively slower performance. Example of Interpreted language – JavaScript, Perl, Python, BASIC, etc.\n",
        "   - Compiled languages:-\n",
        "   - The entire code is converted into machine code before execution. This makes compiled languages faster and more efficient than interpreted languages. Compiled languages also give developers more control over hardware aspects, like memory management and CPU usage. A compiled language is a programming language whose implementations are typically compilers and not interpreters. In this language, once the program is compiled it is expressed in the instructions of the target machine.There are at least two steps to get from source code to execution. In this language, compiled programs run faster than interpreted programs.In this language, compilation errors prevent the code from compiling.The code of compiled language can be executed directly by the computer’s CPU. This language delivers better performance. Example of compiled language – C, C++, C#, CLEO, COBOL, etc.\n",
        "   - Efficiency:-\n",
        "   - Compiled languages are more efficient than interpreted languages because the overhead for translation is only incurred once.\n",
        "   - Portability:-\n",
        "   - Interpreted languages are more portable than compiled languages.\n",
        "   - Examples:-\n",
        "  - Some examples of compiled languages include Assembler, COBOL, PL/I, and C/C++. Some examples of interpreted languages include Python, PHP, JavaScript, and Ruby.\n",
        "  - Mixing:-\n",
        "  - Some languages, like Java, can be either interpreted or compiled. For example, Java programs are first compiled to bytecode, and then interpreted.\n",
        "\n",
        "2. What is exception handling in Python?\n",
        "   - Exception handling in Python is a mechanism for gracefully handling errors that occur during the execution of a program. It allows you to catch and manage errors, preventing your program from crashing and providing a way to recover from unexpected situations. The requirement for handling exceptions in Python arises when an error occurs that can cause the program to terminate. Errors interrupt the flow of the program at the point where they appear, so any further code stops executing. This error is called an exception.\n",
        "   - Errors: Problems in a program that cause it to stop executing.\n",
        "   - Exceptions: Objects that represent errors and can be caught and handled.\n",
        "   - try-except blocks: The core of exception handling. You put code that might raise an exception inside a try block, and then you handle the exception in an except block.\n",
        "   - finally block: Code within the finally block is executed regardless of whether an exception occurs or not. It's often used for cleanup tasks.\n",
        "   - raise statement: Used to explicitly raise an exception.\n",
        "   - ZeroDivisionError: Raised when dividing by zero.\n",
        "   - ValueError: Raised when a function receives an argument of the correct type but an inappropriate value.\n",
        "   - IndexError: Raised when you try to access a list index that is out of range.\n",
        "   - KeyError: Raised when you try to access a dictionary key that doesn't exist.\n",
        "   - FileNotFoundError: Raised when you try to open a file that does not exist.  \n",
        "\n",
        "3. What is the purpose of the finally block in exception handling?\n",
        "   - The purpose of the finally block in exception handling is to ensure that important code is executed regardless of whether an exception is thrown. This is useful for resource cleanup tasks, such as closing a file or database connection.\n",
        "   - Avoids bypassing cleanup code:-\n",
        "   - A finally block prevents cleanup code from being accidentally skipped by a return, continue, or break.\n",
        "   - Good practice:-\n",
        "   - It's a good practice to put cleanup code in a finally block, even when no exceptions are expected.\n",
        "   - Executes even if catch statement is missing:-\n",
        "   - The finally block will still execute if the catch statement is missing and an exception is thrown.\n",
        "\n",
        "4. What is logging in Python?\n",
        "   - Logging in Python is a way to track events that happen when your software runs. It's a built-in module that allows you to record information about errors, warnings, and other events, which can be immensely helpful for debugging, troubleshooting, and monitoring your applications.\n",
        "   - Logging helps you understand what's happening inside your application, especially when things go wrong. It acts like a diary, recording important events and providing valuable insights into the application's behavior.\n",
        "   - Debugging: Logs can pinpoint the exact location of errors, making debugging much easier.\n",
        "   - Troubleshooting: By examining logs, you can identify performance bottlenecks, unexpected behavior, and other issues.\n",
        "   - Monitoring: Logs provide valuable data for monitoring the health and performance of your application.\n",
        "   - DEBUG: Detailed information, typically used during development.\n",
        "   - INFO: General information about the application's progress.\n",
        "   - WARNING: Something unexpected happened, but the application can continue.\n",
        "   - ERROR: An error occurred that might affect the application's functionality.\n",
        "   - CRITICAL: A critical error occurred that might crash the application.\n",
        "\n",
        "5. What is the significance of the __del__ method in Python?\n",
        "   - __del__ is a finalizer. It is called when an object is garbage collected which happens at some point after all references to the object have been deleted. In a simple case this could be right after you say del x or, if x is a local variable, after the function ends.\n",
        "   - In Python, the __del__ method is a special method, also known as a destructor. It is called when an object is about to be destroyed.\n",
        "   - Significance:-\n",
        "   - Cleanup:-\n",
        "   - It is used to perform any necessary cleanup operations before the object is removed from memory. This can include closing files, releasing network connections, or freeing up other resources.\n",
        "   - Finalization:-\n",
        "  - This method allows you to perform any finalization actions that are required for the object.\n",
        "  - Resource Management:-\n",
        "  - It is crucial for managing resources that need to be explicitly released when they are no longer needed.  \n",
        "  - Non-Deterministic:-\n",
        "  - The exact timing of when the __del__ method is called is not guaranteed. It depends on the garbage collector and the reference count of the object.\n",
        "  - Avoid Reliance:-\n",
        "  - It is generally recommended to avoid relying heavily on the __del__ method for critical cleanup operations. Use context managers (with statement) or explicit cleanup methods whenever possible.\n",
        "  - Exceptions:-\n",
        "  - If an exception occurs within the __del__ method, it will be suppressed and not propagated. This can make debugging challenging.\n",
        "\n",
        "6. What is the difference between import and from ... import in Python?\n",
        "   - The difference is that \"from <module/file> import <class/module>\" is used for importing some specific thing from that file/module. In the other hand \"Import<module> is used for importing the whole module/file.\n",
        "   - In Python, both import and from ... import are used to bring external code (modules or specific attributes) into your current script. However, they differ in how they do this:\n",
        "   - import statement:-\n",
        "   - Syntax: import module_name\n",
        "   - Effect: This imports the entire module, making all its attributes accessible through the module's namespace.\n",
        "  - Usage: module_name.attribute_name\n",
        "  - from ... import statement:\n",
        "  - Syntax: from module_name import attribute_name\n",
        "  - Effect: This imports specific attributes (functions, classes, variables, etc.) directly into your current namespace.\n",
        "  - Usage: attribute_name\n",
        "  - Namespace:-\n",
        "  - With import, you access attributes using the module name as a prefix (module_name.attribute_name). With from ... import, the attributes are available directly in your namespace.\n",
        "  - Specificity:-\n",
        "  - import brings in the entire module, while from ... import allows you to import only what you need.\n",
        "  - Naming Conflicts:-\n",
        "  - from ... import can lead to naming conflicts if an attribute you import has the same name as something already defined in your script.\n",
        "  - Readability:-\n",
        "  - For smaller scripts, from ... import can make code more concise and readable.\n",
        "  - Avoiding Conflicts:-\n",
        "  - If there's a possibility of naming conflicts, use import and the module prefix.\n",
        "  - Large Modules:-\n",
        "  - If you're only using a small part of a large module, consider from ... import to avoid unnecessary imports.\n",
        "\n",
        "7. How can you handle multiple exceptions in Python?\n",
        "   - Python allows you to catch multiple exceptions in a single 'except' block by specifying them as a tuple. This feature is useful when different exceptions require similar handling logic. In this case, if either 'ExceptionType1' or 'ExceptionType2' is raised, the code within the 'except' block will be executed.\n",
        "   - In Python, you can handle multiple exceptions in a few ways:-\n",
        "   - *1  Using a single except clause with a tuple of exceptions:-\n",
        "   - try:\n",
        "  - # code that might raise exceptions\n",
        "except (ValueError, IndexError, KeyError) as e:\n",
        "    # code to handle the exceptions  \n",
        "  - *2 Using multiple except clauses:-\n",
        "  - try:\n",
        "  - # code that might raise exceptions\n",
        "except ValueError:\n",
        "    # code to handle ValueError\n",
        "except IndexError:\n",
        "    # code to handle IndexError\n",
        "except KeyError:\n",
        "    # code to handle KeyError\n",
        "  - *3 Using a catch-all except clause:-\n",
        "  - try:\n",
        "    # code that might raise exceptions\n",
        "except Exception as e:\n",
        "    # code to handle any exception\n",
        "  - Order of except clauses:-\n",
        "  - The order of except clauses matters. If you place a more general exception class before a more specific one, the more specific one will never be reached.\n",
        "  - Catch-all clause:-\n",
        "  - Use the catch-all except clause sparingly. Catching all exceptions can hide errors and make debugging difficult.\n",
        "  - Specific handling:-\n",
        "  - When possible, try to handle exceptions specifically. This allows you to tailor the error handling to the particular problem that occurred.\n",
        "\n",
        "8. What is the purpose of the with statement when handling files in Python?\n",
        "   - The with statement in Python is used to simplify resource management, ensuring that resources are properly acquired and released, even in the presence of exceptions. When working with files, the with statement ensures that the file is automatically closed after the block of code within the with statement is executed. In Python, the with statement replaces a try-catch block with a concise shorthand. More importantly, it ensures closing resources right after processing them. A common example of using the with statement is reading or writing to a file. A function or class that supports the with statement is known as a context manager.\n",
        "   - Here's why you should use the with statement for file handling:\n",
        "   - Automatic File Closure:-\n",
        "   - The with statement guarantees that the file is closed, even if an exception occurs within the block. This prevents resource leaks and ensures that your code is more robust.\n",
        "  - Cleaner Syntax:-\n",
        "  - The with statement makes your code more concise and readable compared to using try-finally blocks for file handling.\n",
        "  - Context Manager:-\n",
        "  - The with statement works with context managers, which are objects that define the methods __enter__() and __exit__(). The __enter__() method is called when entering the with block, and the __exit__() method is called when exiting the block. This allows for predictable and efficient resource management.\n",
        "  - Example:-\n",
        "  - with open(\"myfile.txt\", \"w\") as f:\n",
        "    f.write(\"Hello, world!\")\n",
        "  - The open() function returns a file object, which is a context manager.\n",
        "  - The with statement calls the __enter__() method of the file object, which opens the file.\n",
        "  - The code within the with block writes data to the file.\n",
        "  - The with statement automatically calls the __exit__() method of the file object, which closes the file, even if an exception occurs within the block.\n",
        "\n",
        "9. What is the difference between multithreading and multiprocessing?\n",
        "   - Multiprocessing uses multiple CPUs to run many processes at a time while multithreading creates multiple threads within a single process to get faster and more efficient task execution. Both Multiprocessing and Multithreading are used to increase the computing power of a system in different ways. In this article, we are going to discuss the difference between multiprocessing and multithreading in detail.\n",
        "   - Multithreading refers to the ability of a processor to execute multiple threads concurrently, where each thread runs a process. Multiprocessing refers to the ability of a system to run multiple processors in parallel, where each processor can run one or more threads.\n",
        "   - Multithreading and multiprocessing are both ways to increase computing power, but they differ in how they do it:\n",
        "   - Multithreading:-\n",
        "   - Uses a single processor to run multiple threads concurrently. Each thread runs a process, and all threads share the resources of the single process. Multithreading is good for tasks that need to share data quickly. While In Multithreading, many threads are created of a single process for increasing computing power. While in multithreading, many threads of a process are executed simultaneously. While Multithreading is not classified in any categories. While in Multithreading, process creation is according to economical. While in Multithreading, a common address space is shared by all the threads.\n",
        "   - Multiprocessing:-\n",
        "   - Uses multiple processors to run multiple processes in parallel. Each process has its own dedicated resources and address space. Multiprocessing is better suited for CPU-bound tasks. In Multiprocessing, CPUs are added for increasing computing power. In Multiprocessing, Many processes are executed simultaneously. Multiprocessing are classified into Symmetric and Asymmetric. In Multiprocessing, Process creation is a time-consuming process. In Multiprocessing, every process owned a separate address space.\n",
        "   - some other differences between multithreading and multiprocessing:\n",
        "   - Speed:-\n",
        "   - Multithreading is quick to create and requires few resources. - -   Multiprocessing requires more time and resources to create.\n",
        "   - Parallelism vs concurrency:-\n",
        "   - Multiprocessing more closely resembles parallelism, while multithreading more closely resembles concurrency.\n",
        "   - Address space:-\n",
        "  - Multithreading uses a common address space for all threads, while multiprocessing creates a separate address space for each process.\n",
        "\n",
        "10. What are the advantages of using logging in a program?\n",
        "    - Using logging in a program provides significant advantages by allowing developers to easily identify and troubleshoot issues by recording information about events, errors, warnings, and program execution flow, which helps in debugging, monitoring application behavior, and understanding how the program is performing, especially in complex scenarios where pinpointing problems can be difficult. You can use logging to record information about errors, warnings, and other events that occur during program execution. And logging is a useful tool for debugging, troubleshooting, and monitoring your program.\n",
        "    - The advantages of using logging in a program are:-\n",
        "    - Debugging and troubleshooting:-\n",
        "    - Logs act as a detailed record of program execution, enabling developers to pinpoint the exact location and cause of errors or unexpected behavior by reviewing the sequence of events leading up to the problem.\n",
        "    - Monitoring application health:-\n",
        "    - By logging critical events and metrics, developers can monitor the performance of their application in real-time, identifying potential bottlenecks or performance degradation issues.\n",
        "    - Understanding user interactions:-\n",
        "    - Logging user actions and data can provide valuable insights into how users interact with the application, helping to identify areas for improvement and potential usability problems.\n",
        "    - Security analysis:-\n",
        "    - Logs can record suspicious activity, allowing security teams to detect potential security breaches and investigate malicious behavior more effectively.\n",
        "    - Improved maintainability:-\n",
        "    - Well-structured logs with clear timestamps and relevant information make it easier for future developers to understand the code and diagnose issues when making modifications.\n",
        "    - Performance optimization:-\n",
        "    - By analyzing log data, developers can identify inefficient parts of the code and optimize performance by focusing on areas where the application is experiencing bottlenecks.\n",
        "    - Compliance and auditing:-\n",
        "    - Logging can be crucial for meeting regulatory requirements by providing a detailed audit trail of system activities.\n",
        "    - Logging levels:-\n",
        "    - Different logging levels (e.g., debug, info, warning, error, critical) allow developers to control the amount of information captured depending on the situation.\n",
        "    - Centralized log management:-\n",
        "    - Storing logs in a centralized system enables easier analysis and correlation of events across different parts of the application.\n",
        "    - Structured logging:-\n",
        "    - Organizing log data in a structured format (like JSON) facilitates automated parsing and analysis using log management tools.\n",
        "\n",
        "11. What is memory management in Python?\n",
        "    - Understanding Memory allocation is important to any software developer as writing efficient code means writing a memory-efficient code. Memory allocation can be defined as allocating a block of space in the computer memory to a program. In Python memory allocation and deallocation method is automatic as the Python developers created a garbage collector for Python so that the user does not have to do manual garbage collection. Garbage collection is a process in which the interpreter frees up the memory when not in use to make it available for other objects. Assume a case where no reference is pointing to an object in memory i.e. it is not in use so, the virtual machine has a garbage collector that automatically deletes that object from the heap memory. Reference counting works by counting the number of times an object is referenced by other objects in the system. When references to an object are removed, the reference count for an object is decremented. When the reference count becomes zero, the object is deallocated.\n",
        "    - Memory management in Python is the process of automatically allocating and deallocating memory for objects in your program. This ensures that your program runs efficiently and doesn't run out of memory.\n",
        "    - *1. Private Heap:-\n",
        "    - Python maintains a private heap where all Python objects and data structures are stored.\n",
        "    - This heap is managed internally by the Python memory manager.\n",
        "    - *2. Reference Counting:-\n",
        "    - Python keeps track of how many references exist to an object.\n",
        "    - When an object's reference count drops to zero (meaning no variables are pointing to it), the memory occupied by the object is automatically deallocated.\n",
        "    - *3. Garbage Collector:-\n",
        "    - In addition to reference counting, Python employs a garbage collector to detect and reclaim memory from cyclic references, which reference counting cannot handle.\n",
        "    - The garbage collector runs periodically to identify and deallocate objects that are no longer accessible.\n",
        "    - *4. Object-Specific Allocators:-\n",
        "    - Python uses different memory allocation strategies for different types of objects.\n",
        "    - For example, integers are managed differently than strings or dictionaries due to their unique storage requirements.\n",
        "\n",
        "12. What are the basic steps involved in exception handling in Python?\n",
        "    - Exception handling in Python involves the following basic steps:\n",
        "    - *1 Try: Enclose the code that might raise an exception within a try block.\n",
        "    - *2 Except: Define one or more except blocks to handle specific exceptions.\n",
        "    - *3 Finally (optional): Use a finally block to execute code that should run regardless of whether an exception occurred.\n",
        "    - example:-\n",
        "    - try:\n",
        "    # Code that might raise an exception\n",
        "    x = 10 / 0\n",
        "except ZeroDivisionError:\n",
        "    # Code to handle the ZeroDivisionError\n",
        "    print(\"Division by zero!\")\n",
        "finally:\n",
        "    # Code to execute regardless of exceptions\n",
        "    print(\"This always runs.\")\n",
        "    - The Basic 'try' and 'except' Block: In Python, exceptions are caught and handled using the 'try' and 'except' block. ...\n",
        "    - The 'else' clause: Python goes a step further and provides an 'else' clause in exception handling. ...\n",
        "    - The 'finally' clause: ...\n",
        "    - Raising Exceptions:\n",
        "\n",
        "13. Why is memory management important in Python?\n",
        "    - Memory management is crucial in Python for several reasons:\n",
        "    - Memory management is the process of controlling and coordinating a computer's main memory. It ensures that blocks of memory space are properly managed and allocated so the operating system (OS), applications and other running processes have the memory they need to carry out their operations.\n",
        "    - *1. Efficient Resource Utilization:-\n",
        "    - Python automatically manages memory allocation and deallocation, but understanding how it works allows you to write more efficient code.\n",
        "    - By avoiding memory leaks and optimizing memory usage, your programs can run faster and consume fewer resources.\n",
        "    - *2. Preventing Program Crashes:-\n",
        "    - Memory leaks, where unused memory is not properly released, can lead to program crashes.\n",
        "    - Proper memory management helps ensure your programs run smoothly and don't exhaust available memory.\n",
        "    - *3. Improving Scalability:-\n",
        "    - For large-scale applications, efficient memory management becomes even more critical.\n",
        "    - By minimizing memory usage and optimizing memory allocation, you can build applications that scale well with increasing data and workloads.\n",
        "    - *4. Interoperability with C Extensions:-\n",
        "    - If you're working with C extensions, understanding Python's memory management becomes essential for ensuring safe and efficient interaction between Python and C code.\n",
        "\n",
        "14. What is the role of try and except in exception handling?\n",
        "    - The try block lets you test a block of code for errors. The except block lets you handle the error. The else block lets you execute code when there is no error. The finally block lets you execute code, regardless of the result of the try- and except blocks.\n",
        "    - In Python, the try and except statements are used to handle exceptions, or errors, in a program:\n",
        "    - Try block:-\n",
        "    - Contains code that may raise an exception. Python attempts to execute the code in the try block.\n",
        "    - Except block:-\n",
        "    - Contains code that handles the exception. If an exception occurs in the try block, Python jumps to the except block to execute it.\n",
        "    - The try block is the block of statements you'd like to try executing. However, there may be runtime errors due to an exception, and this block may fail to work as intended.\n",
        "    - The except block is triggered when the try block fails due to an exception. It contains a set of statements that often give you some context on what went wrong inside the try block.\n",
        "    - You should always mention the type of error that you intend to catch as exception inside the except block, denoted by the placeholder <error type> in the above snippet.\n",
        "    - You might as well use except without specifying the <error type>. But, this is not a recommended practice as you're not accounting for the different types of errors that can occur.\n",
        "    - try:\n",
        "    # There can be errors in this block\n",
        "except <error type>:\n",
        "    # Do this to handle exception;\n",
        "    # executed if the try block throws an error\n",
        "\n",
        "15. How does Python's garbage collection system work?\n",
        "    - Python's garbage collection system automatically reclaims memory occupied by objects that are no longer in use by employing a combination of \"reference counting\" to track how many times an object is referenced, and \"generational garbage collection\" to identify and remove unreachable objects, especially in cases of circular references, ensuring efficient memory management without manual intervention from the developer.\n",
        "    - Python's garbage collection:-\n",
        "    - Reference Counting:-\n",
        "    - When an object is created, a reference count is assigned to it, which is incremented whenever a new variable points to that object. When the reference count reaches zero (meaning no variables are referencing the object), the object is considered garbage and its memory is freed.\n",
        "    - Generational Garbage Collection:-\n",
        "    - Python divides objects into generations (typically three: young, middle, and old). New objects are placed in the young generation, and if they survive a garbage collection cycle, they are moved to the next generation. This approach assumes most objects have a short lifespan and can be quickly collected from the young generation, optimizing performance.\n",
        "    - Handling Circular References:-\n",
        "    - While reference counting works well for most cases, it can't handle circular references (where objects point to each other in a loop). Generational garbage collection helps identify and reclaim memory in such scenarios by tracing through the object graph and detecting unreachable cycles.\n",
        "    - Object Creation:-\n",
        "    - When you create a new object in Python, a reference count is set to 1.\n",
        "    - Variable Assignment:-\n",
        "    - If you assign the object to another variable, the reference count is incremented.\n",
        "    - Object Going Out of Scope:-\n",
        "    - When a variable referencing an object goes out of scope (e.g., when a function ends), the reference count is decremented.\n",
        "    - Garbage Collection Trigger:-\n",
        "    - When the reference count of an object reaches zero, the garbage collector automatically reclaims its memory.\n",
        "    - Automatic Process:-\n",
        "    - You don't need to explicitly call garbage collection in Python; it happens automatically when necessary.\n",
        "    - Potential Overhead:-\n",
        "    - While efficient, garbage collection can introduce slight performance overhead in certain scenarios.\n",
        "    - gc Module:-\n",
        "    - The gc module in Python allows you to access information about the garbage collector and even manually trigger garbage collection if needed.\n",
        "\n",
        "16. What is the purpose of the else block in exception handling?\n",
        "    - In exception handling, the \"else\" block is used to execute a specific set of code only if no exceptions are raised within the \"try\" block; essentially, it allows you to perform additional actions when the operation in the \"try\" block succeeds without encountering any errors. The purpose is so you can define an action or actions to carry out in both cases - one, if the condition is true, and the other, if the condition is false. It's completely optional; and in fact, you can always replace it with two else statements with opposite conditions: if a > b: print(\"It's greater.\")\n",
        "    - About the \"else\" block:-\n",
        "    - Execution condition: The \"else\" block is only executed if the \"try\" block completes without raising any exceptions.\n",
        "    - Placement: It always follows all \"except\" blocks in the exception handling structure.\n",
        "    - Use case: You can use the \"else\" block to perform operations that are only relevant when the primary operation in the \"try\" block is successful.\n",
        "    - Example:-\n",
        "    - try:\n",
        "   result = 10 / 2\n",
        "\n",
        "except ZeroDivisionError:\n",
        "\n",
        "    print(\"Cannot divide by zero\")\n",
        "\n",
        "else:\n",
        "\n",
        "    print(\"The result of the division is:\", result)\n",
        "    - Explanation:-\n",
        "    - In this example, if the division operation in the \"try\" block is successful (no division by zero), the code in the \"else\" block will print the calculated result.\n",
        "    - If a \"ZeroDivisionError\" occurs, the \"except\" block will handle the exception and the \"else\" block won't be executed.\n",
        "\n",
        "17. What are the common logging levels in Python?\n",
        "    - Python's logging module provides several logging levels to categorize the severity of log messages:-\n",
        "    - DEBUG: Detailed information, typically useful for diagnosing problems.\n",
        "    - INFO: Confirmation that things are working as expected.\n",
        "    - WARNING: An indication that something unexpected happened, or indicative of some problem in the near future (e.g. 'disk space low'). The software is still working as expected.\n",
        "    - ERROR: Due to a more serious problem, the software has not been able to perform some function.\n",
        "    - CRITICAL: A serious error, indicating that the program itself may be unable to continue running.\n",
        "    - Logging is a means of tracking events that happen when some software runs. Logging is important for software developing, debugging, and running. If you don’t have any logging record and your program crashes, there are very few chances that you detect the cause of the problem. And if you detect the cause, it will consume a lot of time. With logging, you can leave a trail of breadcrumbs so that if something goes wrong, we can determine the cause of the problem.\n",
        "    - There are a number of situations like if you are expecting an integer, you have been given a float and you can a cloud API, the service is down for maintenance, and much more. Such problems are out of control and are hard to determine.\n",
        "\n",
        "18. What is the difference between os.fork() and multiprocessing in Python?\n",
        "    - Both os.fork() and the multiprocessing module in Python are used for creating new processes, but they have key differences in their approach and usage:-\n",
        "    - *1 os.fork():-\n",
        "    - Lower-Level:\n",
        "    - os.fork() is a system call directly exposed by the operating system (POSIX systems only), providing a more direct and low-level way to create a new process.\n",
        "    - Copy-on-Write:\n",
        "    - os.fork() creates a new process by duplicating the entire memory space of the parent process using a technique called copy-on-write.  This means that initially, both processes share the same memory, and only when one of them modifies the memory, a copy is made. This makes fork() very fast.\n",
        "    - Inheritance:\n",
        "    - The child process inherits all the open file descriptors, environment variables, and other attributes of the parent process.\n",
        "    - Platform-Specific:\n",
        "    - os.fork() is not available on Windows, as it relies on a POSIX-specific system call.\n",
        "    - Limited Functionality:\n",
        "    - os.fork() only creates a new process; it does not provide any built-in mechanisms for inter-process communication (IPC) or managing multiple processes.\n",
        "    - *2 multiprocessing:-\n",
        "    - Higher-Level:\n",
        "    - The multiprocessing module provides a higher-level, cross-platform abstraction for working with multiple processes in Python.\n",
        "    - Multiple Start Methods:\n",
        "    - multiprocessing offers different start methods (fork, spawn, forkserver) to create new processes, allowing you to choose the best one based on your platform and needs.\n",
        "    - IPC:\n",
        "    - Multiprocessing provides various mechanisms for inter-process communication, such as queues, pipes, shared memory, and managers.\n",
        "    - Process Management:\n",
        "    - The multiprocessing module offers tools for managing multiple processes, such as pools for easy parallel execution and process synchronization primitives.\n",
        "    - Cross-Platform:\n",
        "    - multiprocessing works on both Windows and POSIX systems, making it a more portable solution.  \n",
        "    - For simple cases on POSIX systems where you need maximum performance and don't require complex IPC: os.fork() can be a good choice.\n",
        "    - For cross-platform compatibility, complex IPC, and easier process management: multiprocessing is the recommended option.\n",
        "    - Fork Safety:\n",
        "    - Forking a multithreaded process can be problematic, as it can lead to issues like deadlocks and resource leaks. multiprocessing addresses these issues with its various start methods.\n",
        "    - Python 3.14 Change:\n",
        "    - The default start method for multiprocessing is changing from fork to spawn in Python 3.14. This means that code relying on fork semantics should explicitly specify the start method.\n",
        "\n",
        "19. What is the importance of closing a file in Python?\n",
        "    - Because files are limited resources managed by the operating system, making sure files are closed after use will protect against hard-to-debug issues like running out of file handles or experiencing corrupted data.\n",
        "    - Closing a file in Python is important for the following reasons:-\n",
        "    - Resource Management:\n",
        "    - When you open a file, the operating system allocates resources to manage it. Failing to close the file can lead to resource leaks, where these resources remain tied up even though they are no longer needed. This can eventually cause performance issues or crashes.\n",
        "    - Data Integrity:\n",
        "    - Closing a file ensures that any changes you've made to the file are properly saved. This is because some data might be buffered in memory, and closing the file flushes this buffer to disk.\n",
        "    - File Locking:\n",
        "    - When a file is open, it may be locked by the operating system, preventing other processes from accessing it. Closing the file releases this lock, allowing other programs or even your own program to access the file simultaneously.\n",
        "    - Error Handling:\n",
        "    - Closing a file allows you to check for errors that might have occurred during the file operation.\n",
        "    - Best Practices:\n",
        "    - Closing files is considered a good programming practice, as it helps to ensure clean and efficient code.\n",
        "    - In Python, a file object (often denoted as fp) is a representation of an open file. When working with files, it is essential to close the file properly to release system resources and ensure data integrity. Closing a file is crucial to avoid potential issues like data corruption and resource leaks.\n",
        "\n",
        "20. What is the difference between file.read() and file.readline() in Python?\n",
        "    - In Python, file.read() and file.readline() are both used to read data from a file, but they function differently:-\n",
        "    - file.read():-\n",
        "    - Reads the entire content of the file as a single string.\n",
        "    - If you provide an optional size argument, it reads up to that many characters.\n",
        "    - Example:\n",
        "    - with open(\"myfile.txt\", \"r\") as f:\n",
        "    content = f.read()\n",
        "    print(content)\n",
        "    - file.readline():-\n",
        "    - Reads a single line from the file and returns it as a string.\n",
        "    - The newline character (\\n) is included at the end of the string, unless it's the last line of the file.\n",
        "    - Example:\n",
        "    - with open(\"myfile.txt\", \"r\") as f:\n",
        "    line = f.readline()\n",
        "    print(line)\n",
        "    - Data returned:\n",
        "    - read() returns the entire file as a single string, while readline() returns one line at a time as a string.\n",
        "    - Use case:\n",
        "    - read() is useful when you need to process the entire file at once, while readline() is suitable for processing a file line by line.\n",
        "    - Memory efficiency:\n",
        "    - For large files, readline() is more memory-efficient as it only loads one line at a time, whereas read() loads the entire file into memory.\n",
        "\n",
        "21. What is the logging module in Python used for?\n",
        "    - The logging module in Python is used to track and record events that occur within a program, allowing developers to capture information about errors, warnings, debugging messages, and other significant happenings during execution, which is particularly helpful for troubleshooting and monitoring application behavior; essentially, it provides a structured way to log information about your program's activity.\n",
        "    - The Python logging module are:-\n",
        "    - Flexibility:\n",
        "    - It allows for fine-grained control over what information is logged, including severity levels (like DEBUG, INFO, WARNING, ERROR, CRITICAL) and where the logs are sent (console, file, network).\n",
        "    - Structured output:\n",
        "    - Log messages can be formatted consistently with timestamps, module names, and other contextual details.\n",
        "    - Debugging aid:\n",
        "    - By logging events at different levels, developers can easily identify potential issues during development and analyze application behavior.\n",
        "\n",
        "22. What is the os module in Python used for in file handling?\n",
        "    - The os module in Python provides a way to interact with the operating system, including performing file handling operations. OS comes under Python’s standard utility modules. This module provides a portable way of using operating system-dependent functionality.\n",
        "    - Common File Handling Operations with os:\n",
        "    - Creating a directory:\n",
        "    - os.mkdir(path): Creates a single directory at the specified path.\n",
        "    - os.makedirs(path, exist_ok=True): Creates a directory and any necessary parent directories.\n",
        "    - Deleting a file or directory:\n",
        "    - os.remove(path): Deletes a file.\n",
        "    - os.rmdir(path): Deletes an empty directory.\n",
        "    - shutil.rmtree(path): Deletes a directory and all its contents (from the shutil module).\n",
        "    - Renaming a file or directory:\n",
        "    - os.rename(old_path, new_path): Renames a file or directory.\n",
        "    - Checking if a file or directory exists:\n",
        "    - os.path.exists(path): Returns True if the path exists, False otherwise.\n",
        "    - Getting file information:\n",
        "    - os.path.getsize(path): Returns the size of a file in bytes.\n",
        "    - os.path.getmtime(path): Returns the last modification time of a file as a timestamp.\n",
        "    - Listing files and directories:\n",
        "    - os.listdir(path): Returns a list of all files and directories in the specified path.\n",
        "    - Changing the current working directory:\n",
        "    - os.chdir(path): Changes the current working directory to the specified path.\n",
        "    - Getting the current working directory:\n",
        "    - os.getcwd(): Returns the current working directory.\n",
        "    - Example:-\n",
        "    - import os\n",
        "\n",
        "# Create a directory\n",
        "os.mkdir(\"my_directory\")\n",
        "\n",
        "# Check if the directory exists\n",
        "if os.path.exists(\"my_directory\"):\n",
        "    print(\"Directory created successfully!\")\n",
        "\n",
        "# List files in the current directory\n",
        "files = os.listdir(\".\")\n",
        "print(\"Files in the current directory:\", files)\n",
        "\n",
        "# Delete the directory\n",
        "os.rmdir(\"my_directory\")\n",
        " - While the os module provides low-level file handling functionalities, the os.path submodule is often used in conjunction to perform operations related to file paths, like joining paths, extracting file extensions, etc.\n",
        " - For higher-level file handling operations, you might also consider using the built-in open() function or libraries like shutil.\n",
        " - Handling the Current Working Directory.\n",
        " - Creating a Directory.\n",
        " - Listing out Files and Directories with Python.\n",
        " - Deleting Directory or Files using Python.\n",
        "\n",
        "23. What are the challenges associated with memory management in Python?\n",
        "    - Python's memory management, while generally efficient, does come with a few challenges:-\n",
        "    - *1. Memory Overhead:\n",
        "    - Reference Counting:\n",
        "    - Python uses reference counting to track objects. This adds a small overhead to each object, impacting memory usage.\n",
        "    - Garbage Collection:\n",
        "    - The garbage collector, responsible for freeing memory from unreferenced objects, also incurs overhead.\n",
        "    - *2. Memory Leaks:\n",
        "    - Circular References:\n",
        "    - When objects reference each other, creating a cycle, they might not be garbage collected even if they're unreachable from the main program.\n",
        "    - Unintended References:\n",
        "    - Holding onto references to large objects longer than necessary can prevent their deallocation.\n",
        "    - *3. Lack of Fine-Grained Control:\n",
        "    - Automatic Memory Management:\n",
        "    - Python handles memory management automatically, which is great for simplicity but can be limiting when you need precise control over memory allocation and deallocation.\n",
        "    - Limited Visibility:\n",
        "    - It's not always easy to track down which objects are consuming the most memory.\n",
        "    - *4. Performance Impact:\n",
        "    - Garbage Collection Pauses:\n",
        "    - The garbage collector can introduce pauses in your program's execution when it runs, especially when dealing with large amounts of memory.\n",
        "    - Memory Fragmentation:\n",
        "    - Repeated allocation and deallocation can lead to memory fragmentation, making it harder to allocate large contiguous blocks of memory.\n",
        "    - Addressing the Challenges:-\n",
        "    - Use Weak References:\n",
        "    - To avoid circular references, use weakref module to create references that don't prevent garbage collection.\n",
        "    - Profiling and Debugging:\n",
        "    - Utilize memory profiling tools like tracemalloc and objgraph to identify memory leaks and areas for optimization.\n",
        "    - Custom Memory Allocators:\n",
        "    - For specific use cases, you can implement custom memory allocators to optimize memory allocation patterns.\n",
        "    - Consider Data Structures:\n",
        "    - Choose data structures that are more memory-efficient for your particular use case.  \n",
        "\n",
        "24. How do you raise an exception manually in Python?\n",
        "    - In Python, i can manually raise an exception using the raise statement. Here's the basic syntax:\n",
        "    - raise Exception(\"Error message\")\n",
        "    - Example:-\n",
        "    - def divide(x, y):\n",
        "  if y == 0:\n",
        "    raise ZeroDivisionError(\"Division by zero!\")\n",
        "  return x / y\n",
        "\n",
        "try:\n",
        "  result = divide(10, 0)\n",
        "except ZeroDivisionError as e:\n",
        "  print(e)\n",
        " - Explanation:\n",
        " - raise keyword: This keyword is used to trigger an exception.\n",
        " - Exception class: This is the base class for all built-in exceptions. You can also use more specific exception classes like ValueError, TypeError, IndexError, etc.\n",
        " - \"Error message\": This is the optional message that you want to display when the exception is raised.\n",
        " - Points are:-\n",
        " - Use specific exception classes:\n",
        "  - Whenever possible, use the most appropriate exception class to describe the error condition. This makes your code more readable and easier to debug.\n",
        "  - Provide informative error messages:\n",
        "  - Make sure the error message clearly explains the reason for the exception. This helps the user understand what went wrong and how to fix it.\n",
        "  - Use try...except blocks:\n",
        "  - Surround the code that might raise an exception with a try...except block to handle the exception gracefully and prevent your program from crashing.\n",
        "\n",
        "25. Why is it important to use multithreading in certain applications?\n",
        "    - Multithreading is important in certain applications because it allows for concurrent execution of multiple tasks within a single program, significantly improving performance by utilizing multiple CPU cores and preventing the application from becoming unresponsive while waiting for I/O operations, leading to a smoother user experience, especially in applications with many simultaneous actions like web servers, media players, and graphical user interfaces (GUIs).\n",
        "    - Reasons to use multithreading:-\n",
        "    - Improved responsiveness:\n",
        "    - When one thread is performing a slow operation, other threads can continue executing, preventing the application from freezing and maintaining a responsive user interface.\n",
        "    - Better resource utilization:\n",
        "    - By dividing tasks into separate threads, multiple CPU cores can be utilized simultaneously, leading to faster overall application performance, especially on multi-core systems.\n",
        "    - Efficient handling of I/O operations:\n",
        "    - While waiting for network or disk input/output, a separate thread can perform other computations without blocking the main thread.\n",
        "    - Scalability:\n",
        "    - Multithreading allows applications to handle a large number of concurrent requests efficiently, making them suitable for server-side applications.\n",
        "    - Applications that benefit from multithreading:\n",
        "    - Web servers:\n",
        "    - Handling multiple client requests simultaneously by assigning each request to a separate thread.\n",
        "    - Media players:\n",
        "    - Decoding video and audio streams in separate threads while updating the playback interface.\n",
        "    - Graphical user interfaces (GUIs):\n",
        "    - Updating the display while responding to user input in separate threads.\n",
        "    - Game engines:\n",
        "    - Performing complex calculations like physics simulations and rendering in parallel threads.\n",
        "    - Important considerations when using multithreading:\n",
        "    - Synchronization: Proper synchronization mechanisms are necessary to prevent race conditions when multiple threads access shared data.\n",
        "    - Thread management overhead: Creating and managing too many threads can introduce performance overhead.\n",
        "    - Complexity: Designing and debugging multithreaded applications can be challenging due to the potential for concurrency issues.\n",
        "    - Multithreading minimizes the time required for context switching compared to switching between separate processes, as threads within the same process share the same memory space and can switch more quickly. This results in reduced overhead and improved system responsiveness.\n",
        "\n",
        "  \n",
        "\n",
        "     \n",
        "   \n",
        "    \n",
        "\n",
        "\n",
        "\n",
        "\n",
        "\n",
        "\n",
        "\n",
        "\n",
        "\n",
        "\n",
        "\n",
        "\n",
        "\n",
        "\n",
        "\n",
        "\n",
        "\n",
        "\n",
        "\n",
        "\n",
        "\n",
        "\n",
        "\n",
        "\n"
      ],
      "metadata": {
        "id": "Wd9gSyUE7IEP"
      }
    },
    {
      "cell_type": "code",
      "source": [
        "# Practical Questions\n",
        "# 1. How can you open a file for writing in Python and write a string to it?\n",
        "\n",
        "with open(\"file.txt\", \"w\") as f:\n",
        "    f.write(\"Hello Indian.\")\n",
        "\n",
        "f = open(\"file.txt\",\"r\")\n",
        "print(f.read())\n",
        "\n",
        "\n",
        "with open(\"file.txt\", \"a\") as f:\n",
        "    f.write(\"I love India.\")\n",
        "\n",
        "f = open(\"file.txt\",\"r\")\n",
        "print(f.read())\n",
        "\n",
        "\n",
        "try:\n",
        "    with open(\"file.txt\", \"x\") as f:\n",
        "        f.write(\"I love Indian.\")\n",
        "except FileExistsError:\n",
        "    print(\"Indian .\")"
      ],
      "metadata": {
        "colab": {
          "base_uri": "https://localhost:8080/"
        },
        "id": "DGcA83yu0eTZ",
        "outputId": "d8c11b6e-7656-4894-dee6-70136e3eb45b"
      },
      "execution_count": null,
      "outputs": [
        {
          "output_type": "stream",
          "name": "stdout",
          "text": [
            "Hello Indian.\n",
            "Hello Indian.I love India.\n",
            "Indian .\n"
          ]
        }
      ]
    },
    {
      "cell_type": "code",
      "source": [
        "# 2. Write a Python program to read the contents of a file and print each line.\n",
        "L = [\"Americans\\n\", \"love\\n\", \"Indians\\n\"]\n",
        "\n",
        "# Writing to file\n",
        "file1 = open('myfile.txt', 'w')\n",
        "file1.writelines(L)\n",
        "file1.close()\n",
        "\n",
        "# Opening file\n",
        "file1 = open('myfile.txt', 'r')\n",
        "count = 0\n",
        "\n",
        "# Using for loop\n",
        "print(\"Using for loop\")\n",
        "for line in file1:\n",
        "    count += 1\n",
        "    print(\"Line{}: {}\".format(count, line.strip()))\n",
        "\n",
        "# Closing files\n",
        "file1.close()\n"
      ],
      "metadata": {
        "id": "WSGkhyJ0Shft",
        "colab": {
          "base_uri": "https://localhost:8080/"
        },
        "outputId": "ea2a398a-2d09-4ba4-f80f-6030811e6fbd"
      },
      "execution_count": 7,
      "outputs": [
        {
          "output_type": "stream",
          "name": "stdout",
          "text": [
            "Using for loop\n",
            "Line1: Americans\n",
            "Line2: love\n",
            "Line3: Indians\n"
          ]
        }
      ]
    },
    {
      "cell_type": "code",
      "source": [
        "# 3. How would you handle a case where the file doesn't exist while trying to open it for reading?\n",
        "def read_file(filename):\n",
        "\n",
        "    try:\n",
        "\n",
        "        with open(filename, 'r') as file:\n",
        "\n",
        "            content = file.read()\n",
        "\n",
        "            return content\n",
        "\n",
        "    except FileNotFoundError:\n",
        "\n",
        "        print(f\"Error: File '{filename}' not found.\")\n",
        "\n",
        "        return None\n",
        "\n",
        "\n",
        "\n",
        "# Example usage\n",
        "\n",
        "result = read_file(\"my_data.txt\")\n",
        "\n",
        "if result is not None:\n",
        "\n",
        "    print(result)\n",
        "\n"
      ],
      "metadata": {
        "colab": {
          "base_uri": "https://localhost:8080/"
        },
        "id": "Rb5lxoD4EH9L",
        "outputId": "80b28739-18b0-477e-e3d0-8930c1c4e70c"
      },
      "execution_count": 8,
      "outputs": [
        {
          "output_type": "stream",
          "name": "stdout",
          "text": [
            "Error: File 'my_data.txt' not found.\n"
          ]
        }
      ]
    },
    {
      "cell_type": "code",
      "source": [
        "try:\n",
        "    # Attempt to open the file for reading\n",
        "    with open('example.txt', 'r') as file:\n",
        "        # Read and print each line\n",
        "        for line in file:\n",
        "            print(line, end='')\n",
        "\n",
        "except FileNotFoundError:\n",
        "    print(\"The file does not exist.\")"
      ],
      "metadata": {
        "colab": {
          "base_uri": "https://localhost:8080/"
        },
        "id": "zA-dcZauGZoX",
        "outputId": "96087fbe-4866-453b-d4d0-40671e24bf86"
      },
      "execution_count": 9,
      "outputs": [
        {
          "output_type": "stream",
          "name": "stdout",
          "text": [
            "The file does not exist.\n"
          ]
        }
      ]
    },
    {
      "cell_type": "code",
      "source": [
        "# 4. Write a Python script that reads from one file and writes its content to another file.\n",
        "# Specify the file names\n",
        "source_file = \"source.txt\"\n",
        "destination_file = \"destination.txt\"\n",
        "\n",
        "try:\n",
        "    # Open the source file for reading\n",
        "    with open(source_file, \"r\") as src:\n",
        "        # Open the destination file for writing\n",
        "        with open(destination_file, \"w\") as dest:\n",
        "            # Read from the source file and write to the destination file\n",
        "            for line in src:\n",
        "                dest.write(line)\n",
        "    print(f\"Content has been copied from '{source_file}' to '{destination_file}'.\")\n",
        "except FileNotFoundError:\n",
        "    print(f\"The file '{source_file}' does not exist. Please check the file name and path.\")\n"
      ],
      "metadata": {
        "colab": {
          "base_uri": "https://localhost:8080/"
        },
        "id": "pF1CeOYVJzQb",
        "outputId": "ed88b585-af26-4ff5-a03a-a70e422a51f6"
      },
      "execution_count": 13,
      "outputs": [
        {
          "output_type": "stream",
          "name": "stdout",
          "text": [
            "The file 'source.txt' does not exist. Please check the file name and path.\n"
          ]
        }
      ]
    },
    {
      "cell_type": "code",
      "source": [
        "# 5. How would you catch and handle division by zero error in Python.\n",
        "try:\n",
        "    result = 10 / 0\n",
        "except ZeroDivisionError:\n",
        "    print(\"Error: Division by zero is not allowed.\")"
      ],
      "metadata": {
        "colab": {
          "base_uri": "https://localhost:8080/"
        },
        "id": "1MstD3OELBSb",
        "outputId": "746f1d28-90d2-4e5e-9f4d-9048690e3072"
      },
      "execution_count": 14,
      "outputs": [
        {
          "output_type": "stream",
          "name": "stdout",
          "text": [
            "Error: Division by zero is not allowed.\n"
          ]
        }
      ]
    },
    {
      "cell_type": "code",
      "source": [
        "try:\n",
        "    # Attempt to perform division\n",
        "    numerator = 10\n",
        "    denominator = 0\n",
        "    result = numerator / denominator\n",
        "    print(\"Result:\", result)\n",
        "\n",
        "except ZeroDivisionError:\n",
        "    print(\"Error: Cannot divide by zero!\")\n"
      ],
      "metadata": {
        "colab": {
          "base_uri": "https://localhost:8080/"
        },
        "id": "JsnUqINcMrka",
        "outputId": "0582bf69-cce1-44ef-cab3-367fd9880935"
      },
      "execution_count": 15,
      "outputs": [
        {
          "output_type": "stream",
          "name": "stdout",
          "text": [
            "Error: Cannot divide by zero!\n"
          ]
        }
      ]
    },
    {
      "cell_type": "code",
      "source": [
        "# 6. Write a Python program that logs an error message to a log file when a division by zero exception occurs.\n",
        "import logging\n",
        "\n",
        "# Set up logging configuration\n",
        "logging.basicConfig(filename='error_log.txt', level=logging.ERROR, format='%(asctime)s - %(levelname)s - %(message)s')\n",
        "\n",
        "try:\n",
        "    # Attempt to perform division\n",
        "    numerator = 10\n",
        "    denominator = 0\n",
        "    result = numerator / denominator\n",
        "    print(\"Result:\", result)\n",
        "\n",
        "except ZeroDivisionError as e:\n",
        "    # Log the error message to the log file\n",
        "    logging.error(\"Division by zero error occurred: %s\", e)\n",
        "    print(\"Error: Cannot divide by zero!\")"
      ],
      "metadata": {
        "colab": {
          "base_uri": "https://localhost:8080/"
        },
        "id": "fUJdmTmbNSFo",
        "outputId": "2b84c43c-d424-417b-a037-a270530fb8f3"
      },
      "execution_count": 16,
      "outputs": [
        {
          "output_type": "stream",
          "name": "stderr",
          "text": [
            "ERROR:root:Division by zero error occurred: division by zero\n"
          ]
        },
        {
          "output_type": "stream",
          "name": "stdout",
          "text": [
            "Error: Cannot divide by zero!\n"
          ]
        }
      ]
    },
    {
      "cell_type": "code",
      "source": [
        "import logging\n",
        "\n",
        "# Configure the logging\n",
        "logging.basicConfig(\n",
        "    filename=\"error.log\",  # Log file name\n",
        "    level=logging.ERROR,   # Log level\n",
        "    format=\"%(asctime)s - %(levelname)s - %(message)s\"  # Log format\n",
        ")\n",
        "\n",
        "def divide_numbers(a, b):\n",
        "    try:\n",
        "        result = a / b\n",
        "        print(f\"The result is: {result}\")\n",
        "    except ZeroDivisionError:\n",
        "        error_message = f\"Attempted to divide by zero: {a} / {b}\"\n",
        "        logging.error(error_message)  # Log the error\n",
        "        print(\"An error occurred. Check the log file for details.\")\n",
        "\n",
        "# Example usage\n",
        "divide_numbers(10, 0)\n"
      ],
      "metadata": {
        "colab": {
          "base_uri": "https://localhost:8080/"
        },
        "id": "g-lgS5sxOQES",
        "outputId": "077cf137-ce62-4a57-a6f6-f6f8521481c3"
      },
      "execution_count": 19,
      "outputs": [
        {
          "output_type": "stream",
          "name": "stderr",
          "text": [
            "ERROR:root:Attempted to divide by zero: 10 / 0\n"
          ]
        },
        {
          "output_type": "stream",
          "name": "stdout",
          "text": [
            "An error occurred. Check the log file for details.\n"
          ]
        }
      ]
    },
    {
      "cell_type": "code",
      "source": [
        "import logging\n",
        "import os\n",
        "\n",
        "# Verify the current directory\n",
        "print(\"Current working directory:\", os.getcwd())\n",
        "\n",
        "# Configure logging to write to 'jo.txt' in the current directory\n",
        "log_file_path = \"/content/jo.txt\"  # File will be saved in /content/\n",
        "\n",
        "logging.basicConfig(filename=log_file_path, level=logging.INFO, format='%(asctime)s - %(levelname)s - %(message)s')\n",
        "\n",
        "# Log a test message and simulate an error\n",
        "try:\n",
        "    2 / 0  # This will raise a ZeroDivisionError\n",
        "except ZeroDivisionError as e:\n",
        "    logging.error(f\"An error occurred: {e}\")\n",
        "    print(\"An error occurred:\", e)\n",
        "\n",
        "# Shutdown logging to ensure all logs are written\n",
        "logging.shutdown()\n",
        "\n",
        "# Check if 'jo.txt' is created and print its content\n",
        "if os.path.exists(log_file_path):\n",
        "    print(f\"Log file created successfully at {log_file_path}\")\n",
        "    with open(log_file_path, \"r\") as log_file:\n",
        "        print(\"Log file content:\\n\", log_file.read())\n",
        "else:\n",
        "    print(\"Log file 'if.txt' was not created.\")\n"
      ],
      "metadata": {
        "colab": {
          "base_uri": "https://localhost:8080/"
        },
        "id": "ySgIysSMO1hb",
        "outputId": "a49fda3f-75cb-4e5a-d1a3-3e00bae33f9c"
      },
      "execution_count": 21,
      "outputs": [
        {
          "output_type": "stream",
          "name": "stderr",
          "text": [
            "ERROR:root:An error occurred: division by zero\n"
          ]
        },
        {
          "output_type": "stream",
          "name": "stdout",
          "text": [
            "Current working directory: /content\n",
            "An error occurred: division by zero\n",
            "Log file 'if.txt' was not created.\n"
          ]
        }
      ]
    },
    {
      "cell_type": "code",
      "source": [
        "# 7. How do you log information at different levels (INFO, ERROR, WARNING) in Python using the logging module?\n",
        "# importing module\n",
        "import logging\n",
        "\n",
        "# Create and configure logger\n",
        "logging.basicConfig(filename=\"newfile.log\",\n",
        "                    format='%(asctime)s %(message)s',\n",
        "                    filemode='w')\n",
        "\n",
        "# Creating an object\n",
        "logger = logging.getLogger()\n",
        "\n",
        "# Setting the threshold of logger to DEBUG\n",
        "logger.setLevel(logging.DEBUG)\n",
        "\n",
        "# Test messages\n",
        "logger.debug(\"Harmless debug Message\")\n",
        "logger.info(\"Just an information\")\n",
        "logger.warning(\"Its a Warning\")\n",
        "logger.error(\"Did you try to divide by zero\")\n",
        "logger.critical(\"Internet is down\")\n"
      ],
      "metadata": {
        "colab": {
          "base_uri": "https://localhost:8080/"
        },
        "id": "qE7id0LqPcWV",
        "outputId": "014be588-2a35-43a7-bd90-c72d357ed82f"
      },
      "execution_count": 26,
      "outputs": [
        {
          "output_type": "stream",
          "name": "stderr",
          "text": [
            "DEBUG:root:Harmless debug Message\n",
            "INFO:root:Just an information\n",
            "WARNING:root:Its a Warning\n",
            "ERROR:root:Did you try to divide by zero\n",
            "CRITICAL:root:Internet is down\n"
          ]
        }
      ]
    },
    {
      "cell_type": "code",
      "source": [
        "# importing module\n",
        "import logging\n",
        "\n",
        "# Create and configure logger\n",
        "logging.basicConfig(filename=\"newfile.log\",\n",
        "                    format='%(asctime)s %(message)s',\n",
        "                    filemode='w')\n",
        "\n",
        "# Creating an object\n",
        "logger = logging.getLogger()\n",
        "\n",
        "# Setting the threshold of logger to DEBUG\n",
        "logger.setLevel(logging.DEBUG)\n",
        "\n",
        "# Test messages\n",
        "\n",
        "logger.info(\"Just an information\")\n",
        "logger.warning(\"Its a Warning\")\n",
        "logger.error(\"Did you try to divide by zero\")\n",
        "\n"
      ],
      "metadata": {
        "colab": {
          "base_uri": "https://localhost:8080/"
        },
        "id": "wwgBXMcURPC6",
        "outputId": "29e2239c-63c4-4f8c-d381-6f27389ffb8e"
      },
      "execution_count": 27,
      "outputs": [
        {
          "output_type": "stream",
          "name": "stderr",
          "text": [
            "INFO:root:Just an information\n",
            "WARNING:root:Its a Warning\n",
            "ERROR:root:Did you try to divide by zero\n"
          ]
        }
      ]
    },
    {
      "cell_type": "code",
      "source": [
        "# 8. Write a program to handle a file opening error using exception handling.\n",
        "def read_file(file_name):\n",
        "    try:\n",
        "        # Attempt to open the file for reading\n",
        "        with open(file_name, \"r\") as file:\n",
        "            content = file.read()\n",
        "            print(\"File content:\")\n",
        "            print(content)\n",
        "    except FileNotFoundError:\n",
        "        print(f\"Error: The file '{file_name}' does not exist.\")\n",
        "    except PermissionError:\n",
        "        print(f\"Error: Permission denied while trying to open '{file_name}'.\")\n",
        "    except Exception as e:\n",
        "        print(f\"An unexpected error occurred: {e}\")\n",
        "\n",
        "file_name = \"nonexistent_file.txt\"\n",
        "read_file(file_name)\n"
      ],
      "metadata": {
        "colab": {
          "base_uri": "https://localhost:8080/"
        },
        "id": "rvbH9bfNR2lD",
        "outputId": "28f0b6cf-936f-4e0c-baec-cff1c5afeb20"
      },
      "execution_count": 28,
      "outputs": [
        {
          "output_type": "stream",
          "name": "stdout",
          "text": [
            "Error: The file 'nonexistent_file.txt' does not exist.\n"
          ]
        }
      ]
    },
    {
      "cell_type": "code",
      "source": [
        "try:\n",
        "    # Attempt to open the file\n",
        "    with open('non_existent_file.txt', 'r') as file:\n",
        "        # Read the content of the file\n",
        "        content = file.read()\n",
        "        print(content)\n",
        "\n",
        "except FileNotFoundError:\n",
        "    print(\"Error: The file does not exist.\")\n",
        "except IOError as e:\n",
        "    print(f\"An unexpected I/O error occurred: {e}\")"
      ],
      "metadata": {
        "colab": {
          "base_uri": "https://localhost:8080/"
        },
        "id": "b0rSwwSjTDGT",
        "outputId": "dda68b07-2ab3-43dd-eda1-1997d944371b"
      },
      "execution_count": 29,
      "outputs": [
        {
          "output_type": "stream",
          "name": "stdout",
          "text": [
            "Error: The file does not exist.\n"
          ]
        }
      ]
    },
    {
      "cell_type": "code",
      "source": [
        "# 9. How can you read a file line by line and store its content in a list in Python?\n",
        "L = [\"Americans\\n\", \"love\\n\", \"Indians\\n\"]\n",
        "with open('myfile.txt') as f:\n",
        "    lines = [line for line in f]\n",
        "\n",
        "print(lines)\n",
        "\n",
        "# removing the new line characters\n",
        "with open('myfile.txt') as f:\n",
        "    lines = [line.rstrip() for line in f]\n",
        "\n",
        "print(lines)\n"
      ],
      "metadata": {
        "colab": {
          "base_uri": "https://localhost:8080/"
        },
        "id": "O0fcuRnhTKEG",
        "outputId": "4d898a04-5345-4bd0-d50f-5137e3e7661c"
      },
      "execution_count": 34,
      "outputs": [
        {
          "output_type": "stream",
          "name": "stdout",
          "text": [
            "['Americans\\n', 'love\\n', 'Indians\\n']\n",
            "['Americans', 'love', 'Indians']\n"
          ]
        }
      ]
    },
    {
      "cell_type": "code",
      "source": [
        "# 10. How can you append data to an existing file in Python?\n",
        "# Open the file in append mode\n",
        "with open('example.txt', 'a') as file:\n",
        "    # Write the data to the file\n",
        "    file.write(\"This is the new data being appended.\\n\")\n",
        "\n",
        "print(\"Data has been appended to the file.\")\n"
      ],
      "metadata": {
        "colab": {
          "base_uri": "https://localhost:8080/"
        },
        "id": "K6wwqSweUC8X",
        "outputId": "96aa0d1c-f844-4d9e-ba56-b46d1f1ec51d"
      },
      "execution_count": 35,
      "outputs": [
        {
          "output_type": "stream",
          "name": "stdout",
          "text": [
            "Data has been appended to the file.\n"
          ]
        }
      ]
    },
    {
      "cell_type": "code",
      "source": [
        "# 11. Write a Python program that uses a try-except block to handle an error when attempting to access a dictionary key that doesn't exist.\n",
        "# Sample dictionary\n",
        "my_dict = {'name': 'John', 'age': 30}\n",
        "\n",
        "try:\n",
        "    # Attempt to access a key that doesn't exist\n",
        "    value = my_dict['address']\n",
        "    print(\"Value:\", value)\n",
        "\n",
        "except KeyError as e:\n",
        "    print(f\"Error: The key '{e.args[0]}' does not exist in the dictionary.\")"
      ],
      "metadata": {
        "colab": {
          "base_uri": "https://localhost:8080/"
        },
        "id": "3K2hOpttWYOS",
        "outputId": "bc91f1c4-74a4-4a3b-f4d0-25bc4802cf23"
      },
      "execution_count": 36,
      "outputs": [
        {
          "output_type": "stream",
          "name": "stdout",
          "text": [
            "Error: The key 'address' does not exist in the dictionary.\n"
          ]
        }
      ]
    },
    {
      "cell_type": "code",
      "source": [
        "# 12. Write a program that demonstrates using multiple except blocks to handle different types of exceptions.\n",
        "try:\n",
        "    # Example code that may raise different exceptions\n",
        "    num1 = 10\n",
        "    num2 = 0  # This will raise a ZeroDivisionError\n",
        "\n",
        "    # Division operation (will raise ZeroDivisionError)\n",
        "    result = num1 / num2\n",
        "\n",
        "    # Accessing a dictionary with a missing key (will raise KeyError)\n",
        "    my_dict = {'name': 'Rahul'}\n",
        "    value = my_dict['age']\n",
        "\n",
        "except ZeroDivisionError:\n",
        "    print(\"Error: Cannot divide by zero!\")\n",
        "\n",
        "except KeyError as e:\n",
        "    print(f\"Error: The key '{e.args[0]}' does not exist in the dictionary.\")\n",
        "\n",
        "except Exception as e:\n",
        "    print(f\"An unexpected error occurred: {e}\")\n"
      ],
      "metadata": {
        "colab": {
          "base_uri": "https://localhost:8080/"
        },
        "id": "faxjv7iGWsjq",
        "outputId": "a0a32ab7-2b0c-48a6-fb39-ef18dc7ae1c1"
      },
      "execution_count": 37,
      "outputs": [
        {
          "output_type": "stream",
          "name": "stdout",
          "text": [
            "Error: Cannot divide by zero!\n"
          ]
        }
      ]
    },
    {
      "cell_type": "code",
      "source": [
        "# 13. How would you check if a file exists before attempting to read it in Python?\n",
        "from pathlib import Path\n",
        "\n",
        "# File path\n",
        "file_path = Path('example.txt')\n",
        "\n",
        "# Check if the file exists\n",
        "if file_path.exists():\n",
        "    try:\n",
        "        with open(file_path, 'r') as file:\n",
        "            content = file.read()\n",
        "            print(content)\n",
        "    except Exception as e:\n",
        "        print(f\"An error occurred: {e}\")\n",
        "else:\n",
        "    print(f\"The file '{file_path}' does not exist.\")\n"
      ],
      "metadata": {
        "colab": {
          "base_uri": "https://localhost:8080/"
        },
        "id": "7xTu8ME4XDSf",
        "outputId": "9ca9ccc2-a31f-4f12-a2e1-6633703a2550"
      },
      "execution_count": 38,
      "outputs": [
        {
          "output_type": "stream",
          "name": "stdout",
          "text": [
            "This is the new data being appended.\n",
            "\n"
          ]
        }
      ]
    },
    {
      "cell_type": "code",
      "source": [
        "import os\n",
        "\n",
        "file_name = \"example.txt\"\n",
        "\n",
        "# Check if the file exists\n",
        "if os.path.exists(file_name):\n",
        "    with open(file_name, \"r\") as file:\n",
        "        content = file.read()\n",
        "        print(\"File content:\")\n",
        "        print(content)\n",
        "else:\n",
        "    print(f\"The file '{file_name}' does not exist.\")\n"
      ],
      "metadata": {
        "colab": {
          "base_uri": "https://localhost:8080/"
        },
        "id": "SsES8P2tXhUs",
        "outputId": "93ba8a87-00e7-4b3d-db5e-62de3e8a188e"
      },
      "execution_count": 39,
      "outputs": [
        {
          "output_type": "stream",
          "name": "stdout",
          "text": [
            "File content:\n",
            "This is the new data being appended.\n",
            "\n"
          ]
        }
      ]
    },
    {
      "cell_type": "code",
      "source": [
        "# 14. Write a program that uses the logging module to log both informational and error messages.\n",
        "import logging\n",
        "\n",
        "# Configure the logging module\n",
        "logging.basicConfig(filename='app.log', level=logging.INFO,\n",
        "                    format='%(asctime)s - %(levelname)s - %(message)s')\n",
        "\n",
        "# Log an informational message\n",
        "logging.info('Program started')\n",
        "\n",
        "try:\n",
        "    # Some code that might raise an exception\n",
        "    result = 10 / 0  # This will raise a ZeroDivisionError\n",
        "except ZeroDivisionError:\n",
        "    # Log the error\n",
        "    logging.error('An error occurred', exc_info=True)\n",
        "\n",
        "# Log another informational message\n",
        "logging.info('Program finished')"
      ],
      "metadata": {
        "colab": {
          "base_uri": "https://localhost:8080/"
        },
        "id": "KuMZrmdAYLOM",
        "outputId": "0edff27b-2011-4ea7-b154-ffd72fa83c30"
      },
      "execution_count": 40,
      "outputs": [
        {
          "output_type": "stream",
          "name": "stderr",
          "text": [
            "INFO:root:Program started\n",
            "ERROR:root:An error occurred\n",
            "Traceback (most recent call last):\n",
            "  File \"<ipython-input-40-f4b582d04389>\", line 13, in <cell line: 11>\n",
            "    result = 10 / 0  # This will raise a ZeroDivisionError\n",
            "ZeroDivisionError: division by zero\n",
            "INFO:root:Program finished\n"
          ]
        }
      ]
    },
    {
      "cell_type": "code",
      "source": [
        "#14.Write a program that uses the logging module to log both informational and error messages?\n",
        "import logging\n",
        "\n",
        "# Set up logging configuration\n",
        "logging.basicConfig(\n",
        "    filename='app.log',  # Log file\n",
        "    level=logging.DEBUG,  # Capture all levels from DEBUG and above\n",
        "    format='%(asctime)s - %(levelname)s - %(message)s'\n",
        ")\n",
        "\n",
        "# Log an informational message\n",
        "logging.info('This is an informational message.')\n",
        "\n",
        "# Log a warning message\n",
        "logging.warning('This is a warning message.')\n",
        "\n",
        "# Log an error message\n",
        "logging.error('This is an error message.')\n",
        "\n",
        "# Log a critical message\n",
        "logging.critical('This is a critical message.')\n",
        "\n",
        "# Simulate an error for demonstration\n",
        "try:\n",
        "    x = 1 / 0  # This will raise a ZeroDivisionError\n",
        "except ZeroDivisionError as e:\n",
        "    logging.error(f\"A division by zero error occurred: {e}\")\n"
      ],
      "metadata": {
        "colab": {
          "base_uri": "https://localhost:8080/"
        },
        "id": "Gcp8QfasYkk8",
        "outputId": "9594e603-e986-41ea-d092-1b9c852b40ff"
      },
      "execution_count": 41,
      "outputs": [
        {
          "output_type": "stream",
          "name": "stderr",
          "text": [
            "INFO:root:This is an informational message.\n",
            "WARNING:root:This is a warning message.\n",
            "ERROR:root:This is an error message.\n",
            "CRITICAL:root:This is a critical message.\n",
            "ERROR:root:A division by zero error occurred: division by zero\n"
          ]
        }
      ]
    },
    {
      "cell_type": "code",
      "source": [
        "# 15. Write a Python program that prints the content of a file and handles the case when the file is empty.\n",
        "def read_file(file_name):\n",
        "    try:\n",
        "        # Open the file for reading\n",
        "        with open(file_name, \"r\") as file:\n",
        "            content = file.read()\n",
        "\n",
        "            # Check if the file is empty\n",
        "            if not content:\n",
        "                print(\"The file is empty.\")\n",
        "            else:\n",
        "                print(\"File content:\")\n",
        "                print(content)\n",
        "\n",
        "    except FileNotFoundError:\n",
        "        print(f\"Error: The file '{file_name}' does not exist.\")\n",
        "    except Exception as e:\n",
        "        print(f\"An unexpected error occurred: {e}\")\n",
        "\n",
        "# Example usage\n",
        "file_name = \"example.txt\"\n",
        "read_file(file_name)\n"
      ],
      "metadata": {
        "colab": {
          "base_uri": "https://localhost:8080/"
        },
        "id": "CLJ9UI0gZV1J",
        "outputId": "257c3df5-a10a-4780-9887-e3ed5514dec8"
      },
      "execution_count": 49,
      "outputs": [
        {
          "output_type": "stream",
          "name": "stdout",
          "text": [
            "File content:\n",
            "This is the new data being appended.\n",
            "\n"
          ]
        }
      ]
    },
    {
      "cell_type": "code",
      "source": [
        "#16. Demonstrate how to use memory profiling to check the memory usage of a small program?\n",
        "import psutil\n",
        "import os\n",
        "import time\n",
        "\n",
        "def track_memory_usage():\n",
        "    ab = psutil.Process(os.getpid())  # Get current process\n",
        "    memory_before = ab.memory_info().rss / 1024 ** 2  # Convert to MB\n",
        "    print(f\"Memory before function: {memory_before:.2f} MB\")\n",
        "\n",
        "    # Simulate memory usage\n",
        "    a = [i * 2 for i in range(1000000)]  # List allocation\n",
        "    time.sleep(2)\n",
        "\n",
        "    memory_after = ab.memory_info().rss / 1024 ** 2  # Convert to MB\n",
        "    print(f\"Memory after function: {memory_after:.2f} MB\")\n",
        "\n",
        "track_memory_usage()\n",
        "\n"
      ],
      "metadata": {
        "colab": {
          "base_uri": "https://localhost:8080/"
        },
        "id": "3hCjdDXEo4po",
        "outputId": "eab1ee15-9a28-4208-e444-34e52fe7860b"
      },
      "execution_count": 52,
      "outputs": [
        {
          "output_type": "stream",
          "name": "stdout",
          "text": [
            "Memory before function: 124.44 MB\n",
            "Memory after function: 162.74 MB\n"
          ]
        }
      ]
    },
    {
      "cell_type": "code",
      "source": [
        "#17. Write a Python program to create and write a list of numbers to a file, one number per line?\n",
        "# Create a list of numbers\n",
        "numbers = [1, 2, 3, 4, 5, 6, 7, 8, 9, 10]\n",
        "\n",
        "# Specify the file name\n",
        "file_name = \"numbers.txt\"\n",
        "\n",
        "# Open the file in write mode\n",
        "with open(file_name, 'w') as file:\n",
        "    # Iterate through the list and write each number to the file\n",
        "    for number in numbers:\n",
        "        file.write(f\"{number}\\n\")  # Write each number followed by a newline\n",
        "\n",
        "print(f\"Numbers have been written to {file_name}\")\n"
      ],
      "metadata": {
        "colab": {
          "base_uri": "https://localhost:8080/"
        },
        "id": "ds_pNSzDpH5q",
        "outputId": "51c5e1c2-1c8d-4240-a475-b23091b04c33"
      },
      "execution_count": 53,
      "outputs": [
        {
          "output_type": "stream",
          "name": "stdout",
          "text": [
            "Numbers have been written to numbers.txt\n"
          ]
        }
      ]
    },
    {
      "cell_type": "code",
      "source": [
        "#18. How would you implement a basic logging setup that logs to a file with rotation after 1M?\n",
        "import logging\n",
        "from logging.handlers import RotatingFileHandler\n",
        "\n",
        "# Define the log file path\n",
        "log_file = \"app.log\"\n",
        "\n",
        "# Create a rotating file handler that rotates the log file when it reaches 1MB\n",
        "handler = RotatingFileHandler(log_file, maxBytes=1 * 1024 * 1024, backupCount=3)\n",
        "\n",
        "# Set up the basic configuration of logging\n",
        "logging.basicConfig(\n",
        "    level=logging.DEBUG,  # Set the logging level to DEBUG\n",
        "    handlers=[handler],   # Add the rotating file handler to the logging configuration\n",
        "    format=\"%(asctime)s - %(levelname)s - %(message)s\",  # Log format\n",
        "    force=True\n",
        ")\n",
        "\n",
        "# Log some messages\n",
        "logging.debug(\"This is a debug message.\")\n",
        "logging.info(\"This is an info message.\")\n",
        "logging.warning(\"This is a warning message.\")\n",
        "logging.error(\"This is an error message.\")\n",
        "logging.critical(\"This is a critical message.\")\n",
        "logging.shutdown()\n",
        "\n",
        "print(\"Logging messages to app.log with rotation after 1MB.\")\n"
      ],
      "metadata": {
        "colab": {
          "base_uri": "https://localhost:8080/"
        },
        "id": "oXUO_7_-qLRZ",
        "outputId": "2752f3ad-bff8-4c31-d35a-4fd1082b486b"
      },
      "execution_count": 54,
      "outputs": [
        {
          "output_type": "stream",
          "name": "stdout",
          "text": [
            "Logging messages to app.log with rotation after 1MB.\n"
          ]
        }
      ]
    },
    {
      "cell_type": "code",
      "source": [
        "#19. Write a program that handles both IndexError and KeyError using a try-except block?\n",
        "# Sample list and dictionary\n",
        "my_list = [1, 2, 3]\n",
        "my_dict = {\"name\": \"Alice\", \"age\": 25}\n",
        "\n",
        "try:\n",
        "    # Try accessing an element in the list with an invalid index\n",
        "    list_item = my_list[5]  # This will raise an IndexError\n",
        "    print(\"List Item:\", list_item)\n",
        "\n",
        "    # Try accessing a key in the dictionary that doesn't exist\n",
        "    dict_value = my_dict[\"address\"]  # This will raise a KeyError\n",
        "    print(\"Dictionary Value:\", dict_value)\n",
        "\n",
        "except IndexError as ie:\n",
        "    print(\"IndexError occurred:\", ie)\n",
        "except KeyError as ke:\n",
        "    print(\"KeyError occurred:\", ke)\n"
      ],
      "metadata": {
        "colab": {
          "base_uri": "https://localhost:8080/"
        },
        "id": "nwGzqi4xqY3C",
        "outputId": "c82b9a31-afa4-4dba-c0d9-93195ef66a70"
      },
      "execution_count": 55,
      "outputs": [
        {
          "output_type": "stream",
          "name": "stdout",
          "text": [
            "IndexError occurred: list index out of range\n"
          ]
        }
      ]
    },
    {
      "cell_type": "code",
      "source": [
        "#20. How would you open a file and read its contents using a context manager in Pytho?\n",
        "# Specify the file path\n",
        "file_path = \"example.txt\"\n",
        "\n",
        "# Use a context manager to open the file and read its contents\n",
        "with open(file_path, 'r') as file:\n",
        "    # Read the entire content of the file\n",
        "    content = file.read()\n",
        "    print(content)\n"
      ],
      "metadata": {
        "colab": {
          "base_uri": "https://localhost:8080/"
        },
        "id": "fkEqZ6eUqh9r",
        "outputId": "28edd33b-ad1a-49e2-a86c-12147b5a94b0"
      },
      "execution_count": 56,
      "outputs": [
        {
          "output_type": "stream",
          "name": "stdout",
          "text": [
            "This is the new data being appended.\n",
            "\n"
          ]
        }
      ]
    },
    {
      "cell_type": "code",
      "source": [
        "#21. Write a Python program that reads a file and prints the number of occurrences of a specific word?\n",
        "# Function to count occurrences of a specific word in a file\n",
        "def count_word_occurrences(file_path, target_word):\n",
        "    try:\n",
        "        with open(file_path, 'r') as file:\n",
        "            # Read the entire file content\n",
        "            content = file.read()\n",
        "\n",
        "            # Count the occurrences of the target word (case-insensitive)\n",
        "            word_count = content.lower().split().count(target_word.lower())\n",
        "\n",
        "        print(f\"The word '{target_word}' occurs {word_count} time(s) in the file.\")\n",
        "    except FileNotFoundError:\n",
        "        print(f\"Error: The file '{file_path}' was not found.\")\n",
        "    except Exception as e:\n",
        "        print(f\"An error occurred: {e}\")\n",
        "\n",
        "# Example usage\n",
        "file_path = \"example.txt\"  # Replace with your file path\n",
        "target_word = \"example\"    # Replace with the word you want to search for\n",
        "count_word_occurrences(file_path, target_word)\n"
      ],
      "metadata": {
        "colab": {
          "base_uri": "https://localhost:8080/"
        },
        "id": "Z7tcT9GTqzQr",
        "outputId": "6020a7b5-d22c-413a-b12f-749eb66a7de3"
      },
      "execution_count": 57,
      "outputs": [
        {
          "output_type": "stream",
          "name": "stdout",
          "text": [
            "The word 'example' occurs 0 time(s) in the file.\n"
          ]
        }
      ]
    },
    {
      "cell_type": "code",
      "source": [
        "# 22. How can you check if a file is empty before attempting to read its contents.\n",
        "import os\n",
        "\n",
        "file_name = \"example.txt\"\n",
        "\n",
        "# Check if the file exists\n",
        "if os.path.exists(file_name):\n",
        "    # Check if the file is empty\n",
        "    if os.path.getsize(file_name) == 0:\n",
        "        print(\"The file is empty.\")\n",
        "    else:\n",
        "        with open(file_name, \"r\") as file:\n",
        "            content = file.read()\n",
        "            print(\"File content:\")\n",
        "            print(content)\n",
        "else:\n",
        "    print(f\"The file '{file_name}' does not exist.\")\n"
      ],
      "metadata": {
        "colab": {
          "base_uri": "https://localhost:8080/"
        },
        "id": "tUvQfUNGq8m3",
        "outputId": "1d34a642-eba5-470d-cab8-e4c8dc58c520"
      },
      "execution_count": 58,
      "outputs": [
        {
          "output_type": "stream",
          "name": "stdout",
          "text": [
            "File content:\n",
            "This is the new data being appended.\n",
            "\n"
          ]
        }
      ]
    },
    {
      "cell_type": "code",
      "source": [
        "from pathlib import Path\n",
        "\n",
        "file_name = \"example.txt\"\n",
        "file_path = Path(file_name)\n",
        "\n",
        "# Check if the file exists\n",
        "if file_path.exists():\n",
        "    # Check if the file is empty\n",
        "    if file_path.stat().st_size == 0:\n",
        "        print(\"The file is empty.\")\n",
        "    else:\n",
        "        with file_path.open(\"r\") as file:\n",
        "            content = file.read()\n",
        "            print(\"File content:\")\n",
        "            print(content)\n",
        "else:\n",
        "    print(f\"The file '{file_name}' does not exist.\")\n"
      ],
      "metadata": {
        "colab": {
          "base_uri": "https://localhost:8080/"
        },
        "id": "qa2NlyrgsNHr",
        "outputId": "a76f9688-4773-4c68-9a28-795f5404de64"
      },
      "execution_count": 59,
      "outputs": [
        {
          "output_type": "stream",
          "name": "stdout",
          "text": [
            "File content:\n",
            "This is the new data being appended.\n",
            "\n"
          ]
        }
      ]
    },
    {
      "cell_type": "code",
      "source": [
        "# 23. Write a Python program that writes to a log file when an error occurs during file handling.\n",
        "import logging\n",
        "\n",
        "# Configure the logger\n",
        "logging.basicConfig(filename='file_handling.log', level=logging.ERROR,\n",
        "                    format='%(asctime)s - %(levelname)s - %(message)s')\n",
        "\n",
        "try:\n",
        "    # Code that might raise a file handling error\n",
        "    with open('nonexistent_file.txt', 'r') as f:\n",
        "        content = f.read()\n",
        "except FileNotFoundError as e:\n",
        "    logging.error(f\"File handling error: {e}\")\n",
        "    # Optionally, you can also print the error to the console\n",
        "    print(f\"Error: {e}\")"
      ],
      "metadata": {
        "colab": {
          "base_uri": "https://localhost:8080/"
        },
        "id": "_Fks_MQcsSi0",
        "outputId": "bd5306a6-2e88-499e-c550-712b79da6260"
      },
      "execution_count": 60,
      "outputs": [
        {
          "output_type": "stream",
          "name": "stdout",
          "text": [
            "Error: [Errno 2] No such file or directory: 'nonexistent_file.txt'\n"
          ]
        }
      ]
    },
    {
      "cell_type": "code",
      "source": [
        "import logging\n",
        "\n",
        "# Configure the logging\n",
        "logging.basicConfig(\n",
        "    filename=\"file_errors.log\",  # Log file name\n",
        "    level=logging.ERROR,         # Log level\n",
        "    format=\"%(asctime)s - %(levelname)s - %(message)s\"  # Log format\n",
        ")\n",
        "\n",
        "def read_file(file_name):\n",
        "    try:\n",
        "        # Attempt to open and read the file\n",
        "        with open(file_name, \"r\") as file:\n",
        "            content = file.read()\n",
        "            print(\"File content:\")\n",
        "            print(content)\n",
        "\n",
        "    except FileNotFoundError:\n",
        "        logging.error(f\"FileNotFoundError: The file '{file_name}' does not exist.\")\n",
        "        print(f\"Error: The file '{file_name}' does not exist. Check the log file for details.\")\n",
        "    except PermissionError:\n",
        "        logging.error(f\"PermissionError: Permission denied for file '{file_name}'.\")\n",
        "        print(f\"Error: Permission denied for file '{file_name}'. Check the log file for details.\")\n",
        "    except Exception as e:\n",
        "        logging.error(f\"Unexpected error while handling file '{file_name}': {e}\")\n",
        "        print(f\"An unexpected error occurred. Check the log file for details.\")\n",
        "\n",
        "# Example usage\n",
        "file_name = \"example.txt\"\n",
        "read_file(file_name)\n"
      ],
      "metadata": {
        "colab": {
          "base_uri": "https://localhost:8080/"
        },
        "id": "vx7JaiGYs0hn",
        "outputId": "58a5e4cc-80dd-4903-91d8-a17348bd6d94"
      },
      "execution_count": 61,
      "outputs": [
        {
          "output_type": "stream",
          "name": "stdout",
          "text": [
            "File content:\n",
            "This is the new data being appended.\n",
            "\n"
          ]
        }
      ]
    },
    {
      "cell_type": "code",
      "source": [
        "# 22. How can you check if a file is empty before attempting to read its contents.\n",
        "# import required libraries\n",
        "import os\n",
        "\n",
        "# file_path to check whether it is empty\n",
        "file_path = \"/Users/girish/Desktop/GFG Internship/input.txt\"\n",
        "\n",
        "try:\n",
        "    # get the size of file\n",
        "    file_size = os.path.getsize(file_path)\n",
        "\n",
        "    # if file size is 0, it is empty\n",
        "    if file_size == 0:\n",
        "        print(\"File is empty\")\n",
        "    else:\n",
        "        print(\"File is NOT empty\")\n",
        "\n",
        "# if file does not exist, then exception occurs\n",
        "except FileNotFoundError as e:\n",
        "    print(\"File NOT found\")\n"
      ],
      "metadata": {
        "colab": {
          "base_uri": "https://localhost:8080/"
        },
        "id": "hqP0z3XxtUKO",
        "outputId": "e63be54d-3d51-47ec-e7cd-a2e2f836e708"
      },
      "execution_count": 62,
      "outputs": [
        {
          "output_type": "stream",
          "name": "stdout",
          "text": [
            "File NOT found\n"
          ]
        }
      ]
    },
    {
      "cell_type": "code",
      "source": [],
      "metadata": {
        "id": "tMujgY9tx5Zq"
      },
      "execution_count": null,
      "outputs": []
    }
  ]
}